{
 "cells": [
  {
   "cell_type": "code",
   "execution_count": 1,
   "id": "brazilian-analyst",
   "metadata": {},
   "outputs": [],
   "source": [
    "import torch\n",
    "import torch.nn as nn"
   ]
  },
  {
   "cell_type": "code",
   "execution_count": 2,
   "id": "collect-machine",
   "metadata": {},
   "outputs": [],
   "source": [
    "layer = nn.Linear(5,5)"
   ]
  },
  {
   "cell_type": "code",
   "execution_count": 5,
   "id": "maritime-elements",
   "metadata": {},
   "outputs": [
    {
     "data": {
      "text/plain": [
       "tensor([[ 0.4014, -0.2631,  0.1755,  0.2201, -0.1091],\n",
       "        [ 0.0365,  0.0907,  0.3039, -0.1519,  0.2725],\n",
       "        [-0.2982, -0.0479,  0.4396,  0.1407,  0.4285],\n",
       "        [-0.2137,  0.3008,  0.0673,  0.2893,  0.1470],\n",
       "        [ 0.3842,  0.1994, -0.4411,  0.0845,  0.3375]])"
      ]
     },
     "execution_count": 5,
     "metadata": {},
     "output_type": "execute_result"
    }
   ],
   "source": [
    "layer.weight.data"
   ]
  },
  {
   "cell_type": "code",
   "execution_count": 7,
   "id": "australian-halloween",
   "metadata": {},
   "outputs": [
    {
     "data": {
      "text/plain": [
       "Parameter containing:\n",
       "tensor([[0.8787, 0.0590, 1.2545, 0.4598, 0.7551],\n",
       "        [0.5645, 0.7739, 0.7495, 0.2491, 0.6871],\n",
       "        [0.8417, 0.6605, 0.2484, 0.6737, 0.5075],\n",
       "        [0.0116, 0.6777, 1.1313, 0.6135, 0.6654],\n",
       "        [1.1058, 0.4026, 0.5175, 0.3260, 0.0959]], requires_grad=True)"
      ]
     },
     "execution_count": 7,
     "metadata": {},
     "output_type": "execute_result"
    }
   ],
   "source": [
    "nn.init.uniform_(layer.weight, a=0.0, b=1.3)"
   ]
  },
  {
   "cell_type": "code",
   "execution_count": 11,
   "id": "adverse-stadium",
   "metadata": {},
   "outputs": [
    {
     "data": {
      "text/plain": [
       "Parameter containing:\n",
       "tensor([[-0.4099,  0.1997, -0.3503,  0.5226, -1.3953],\n",
       "        [-0.4543,  1.0482, -0.6946, -2.1051,  0.4805],\n",
       "        [ 1.0449,  0.3153,  0.1907,  1.5930,  0.0529],\n",
       "        [ 2.5886, -1.3979, -1.3223,  0.4418, -1.8336],\n",
       "        [-0.3217, -1.6067,  0.5944, -0.5928, -1.3172]], requires_grad=True)"
      ]
     },
     "execution_count": 11,
     "metadata": {},
     "output_type": "execute_result"
    }
   ],
   "source": [
    "nn.init.normal_(layer.weight, mean=0.0, std=1.0)"
   ]
  },
  {
   "cell_type": "code",
   "execution_count": 13,
   "id": "loving-gazette",
   "metadata": {},
   "outputs": [
    {
     "data": {
      "text/plain": [
       "Parameter containing:\n",
       "tensor([0., 0., 0., 0., 0.], requires_grad=True)"
      ]
     },
     "execution_count": 13,
     "metadata": {},
     "output_type": "execute_result"
    }
   ],
   "source": [
    "nn.init.constant_(layer.bias, 0)"
   ]
  },
  {
   "cell_type": "code",
   "execution_count": 14,
   "id": "aggregate-flavor",
   "metadata": {},
   "outputs": [
    {
     "data": {
      "text/plain": [
       "Parameter containing:\n",
       "tensor([1., 1., 1., 1., 1.], requires_grad=True)"
      ]
     },
     "execution_count": 14,
     "metadata": {},
     "output_type": "execute_result"
    }
   ],
   "source": [
    "nn.init.ones_(layer.bias)"
   ]
  },
  {
   "cell_type": "code",
   "execution_count": 15,
   "id": "statutory-johnston",
   "metadata": {},
   "outputs": [
    {
     "data": {
      "text/plain": [
       "Parameter containing:\n",
       "tensor([0., 0., 0., 0., 0.], requires_grad=True)"
      ]
     },
     "execution_count": 15,
     "metadata": {},
     "output_type": "execute_result"
    }
   ],
   "source": [
    "nn.init.zeros_(layer.bias)"
   ]
  },
  {
   "cell_type": "code",
   "execution_count": 16,
   "id": "correct-graham",
   "metadata": {},
   "outputs": [
    {
     "data": {
      "text/plain": [
       "Parameter containing:\n",
       "tensor([[-0.4247, -0.1438,  0.5587, -0.7364,  0.2277],\n",
       "        [-0.5815, -0.4457, -0.7366, -0.1258, -0.3328],\n",
       "        [-0.7072,  0.2169, -0.6119,  0.4261,  0.0203],\n",
       "        [ 0.1062,  0.3324, -0.6773, -0.0059, -0.6268],\n",
       "        [-0.1276,  0.1201,  0.6985,  0.3811,  0.4831]], requires_grad=True)"
      ]
     },
     "execution_count": 16,
     "metadata": {},
     "output_type": "execute_result"
    }
   ],
   "source": [
    "nn.init.xavier_uniform_(layer.weight, gain=1.0)"
   ]
  },
  {
   "cell_type": "code",
   "execution_count": 17,
   "id": "permanent-artist",
   "metadata": {},
   "outputs": [
    {
     "data": {
      "text/plain": [
       "Parameter containing:\n",
       "tensor([[ 0.6682,  0.9350, -0.3685,  0.3655, -0.0594],\n",
       "        [ 0.6702, -0.1294,  0.4250, -0.5296,  0.1994],\n",
       "        [-0.1152, -0.2993,  0.3821, -0.3204,  0.3553],\n",
       "        [-0.3106,  0.6611,  0.1649, -0.2478, -0.1657],\n",
       "        [ 0.0941,  0.2504, -0.9476,  0.0281,  0.3592]], requires_grad=True)"
      ]
     },
     "execution_count": 17,
     "metadata": {},
     "output_type": "execute_result"
    }
   ],
   "source": [
    "nn.init.xavier_normal_(layer.weight, gain=1.0)"
   ]
  },
  {
   "cell_type": "code",
   "execution_count": null,
   "id": "spare-gamma",
   "metadata": {},
   "outputs": [],
   "source": []
  },
  {
   "cell_type": "code",
   "execution_count": null,
   "id": "enclosed-cancer",
   "metadata": {},
   "outputs": [],
   "source": []
  },
  {
   "cell_type": "code",
   "execution_count": null,
   "id": "informal-tragedy",
   "metadata": {},
   "outputs": [],
   "source": []
  },
  {
   "cell_type": "code",
   "execution_count": null,
   "id": "spread-pointer",
   "metadata": {},
   "outputs": [],
   "source": []
  }
 ],
 "metadata": {
  "kernelspec": {
   "display_name": "Python 3",
   "language": "python",
   "name": "python3"
  },
  "language_info": {
   "codemirror_mode": {
    "name": "ipython",
    "version": 3
   },
   "file_extension": ".py",
   "mimetype": "text/x-python",
   "name": "python",
   "nbconvert_exporter": "python",
   "pygments_lexer": "ipython3",
   "version": "3.8.5"
  }
 },
 "nbformat": 4,
 "nbformat_minor": 5
}

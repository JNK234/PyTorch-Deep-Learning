{
 "cells": [
  {
   "cell_type": "code",
   "execution_count": 4,
   "id": "weighted-debut",
   "metadata": {},
   "outputs": [],
   "source": [
    "import torch\n",
    "import torch.nn as nn"
   ]
  },
  {
   "cell_type": "code",
   "execution_count": 18,
   "id": "selected-ribbon",
   "metadata": {},
   "outputs": [],
   "source": [
    "prediction = torch.randn(4,5)"
   ]
  },
  {
   "cell_type": "code",
   "execution_count": 3,
   "id": "smaller-russell",
   "metadata": {},
   "outputs": [],
   "source": [
    "label = torch.randn(4,5)"
   ]
  },
  {
   "cell_type": "markdown",
   "id": "urban-catalyst",
   "metadata": {},
   "source": [
    "# MSE LOSS"
   ]
  },
  {
   "cell_type": "code",
   "execution_count": 14,
   "id": "played-first",
   "metadata": {},
   "outputs": [],
   "source": [
    "mse = nn.MSELoss(reduction='mean')"
   ]
  },
  {
   "cell_type": "code",
   "execution_count": 15,
   "id": "adopted-stretch",
   "metadata": {},
   "outputs": [],
   "source": [
    "op = mse(prediction, label)"
   ]
  },
  {
   "cell_type": "code",
   "execution_count": 16,
   "id": "individual-finish",
   "metadata": {},
   "outputs": [
    {
     "data": {
      "text/plain": [
       "tensor(1.4244)"
      ]
     },
     "execution_count": 16,
     "metadata": {},
     "output_type": "execute_result"
    }
   ],
   "source": [
    "op"
   ]
  },
  {
   "cell_type": "code",
   "execution_count": 17,
   "id": "front-bargain",
   "metadata": {},
   "outputs": [
    {
     "data": {
      "text/plain": [
       "tensor(1.4244)"
      ]
     },
     "execution_count": 17,
     "metadata": {},
     "output_type": "execute_result"
    }
   ],
   "source": [
    "((prediction - label)**2).mean()"
   ]
  },
  {
   "cell_type": "markdown",
   "id": "separate-membrane",
   "metadata": {},
   "source": [
    "# BCE LOSS  and BCEWithLogits"
   ]
  },
  {
   "cell_type": "code",
   "execution_count": 20,
   "id": "proprietary-potato",
   "metadata": {},
   "outputs": [],
   "source": [
    "label = torch.zeros(4,5).random_(0,2)"
   ]
  },
  {
   "cell_type": "code",
   "execution_count": 21,
   "id": "clear-somewhere",
   "metadata": {},
   "outputs": [
    {
     "data": {
      "text/plain": [
       "tensor([[1., 1., 0., 0., 0.],\n",
       "        [0., 0., 0., 0., 1.],\n",
       "        [0., 0., 0., 1., 1.],\n",
       "        [0., 1., 0., 0., 1.]])"
      ]
     },
     "execution_count": 21,
     "metadata": {},
     "output_type": "execute_result"
    }
   ],
   "source": [
    "label"
   ]
  },
  {
   "cell_type": "code",
   "execution_count": 22,
   "id": "athletic-burlington",
   "metadata": {},
   "outputs": [],
   "source": [
    "sigmoid = nn.Sigmoid()"
   ]
  },
  {
   "cell_type": "code",
   "execution_count": 23,
   "id": "deadly-black",
   "metadata": {},
   "outputs": [],
   "source": [
    "bce = nn.BCELoss(reduction='mean')"
   ]
  },
  {
   "cell_type": "code",
   "execution_count": 24,
   "id": "english-initial",
   "metadata": {},
   "outputs": [
    {
     "data": {
      "text/plain": [
       "tensor(1.0068)"
      ]
     },
     "execution_count": 24,
     "metadata": {},
     "output_type": "execute_result"
    }
   ],
   "source": [
    "bce(sigmoid(prediction), label)"
   ]
  },
  {
   "cell_type": "code",
   "execution_count": 25,
   "id": "friendly-shopping",
   "metadata": {},
   "outputs": [],
   "source": [
    "bcel = nn.BCEWithLogitsLoss(weight=None, size_average=None, reduce=None, reduction='mean', pos_weight=None)"
   ]
  },
  {
   "cell_type": "code",
   "execution_count": 26,
   "id": "accompanied-effort",
   "metadata": {},
   "outputs": [
    {
     "data": {
      "text/plain": [
       "tensor(1.0068)"
      ]
     },
     "execution_count": 26,
     "metadata": {},
     "output_type": "execute_result"
    }
   ],
   "source": [
    "bcel(prediction, label)"
   ]
  },
  {
   "cell_type": "markdown",
   "id": "entitled-accuracy",
   "metadata": {},
   "source": [
    "# CROSS ENTROPY LOSS"
   ]
  },
  {
   "cell_type": "code",
   "execution_count": null,
   "id": "useful-girlfriend",
   "metadata": {},
   "outputs": [],
   "source": []
  },
  {
   "cell_type": "code",
   "execution_count": null,
   "id": "blessed-spotlight",
   "metadata": {},
   "outputs": [],
   "source": []
  }
 ],
 "metadata": {
  "kernelspec": {
   "display_name": "Python 3",
   "language": "python",
   "name": "python3"
  },
  "language_info": {
   "codemirror_mode": {
    "name": "ipython",
    "version": 3
   },
   "file_extension": ".py",
   "mimetype": "text/x-python",
   "name": "python",
   "nbconvert_exporter": "python",
   "pygments_lexer": "ipython3",
   "version": "3.8.5"
  }
 },
 "nbformat": 4,
 "nbformat_minor": 5
}

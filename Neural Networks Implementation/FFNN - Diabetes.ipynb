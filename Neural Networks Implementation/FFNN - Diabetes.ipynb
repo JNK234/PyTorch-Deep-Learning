{
 "cells": [
  {
   "cell_type": "code",
   "execution_count": 29,
   "id": "available-filing",
   "metadata": {},
   "outputs": [],
   "source": [
    "import numpy as np\n",
    "import pandas as pd\n",
    "import torch\n",
    "import torch.nn as nn\n",
    "from sklearn.preprocessing import StandardScaler\n",
    "from torch.utils.data import Dataset"
   ]
  },
  {
   "cell_type": "code",
   "execution_count": 2,
   "id": "connected-welding",
   "metadata": {},
   "outputs": [],
   "source": [
    "# Load the Dataset\n",
    "data = pd.read_csv('The-Complete-Neural-Networks-Bootcamp-Theory-Applications-master/diabetes.csv')"
   ]
  },
  {
   "cell_type": "code",
   "execution_count": 3,
   "id": "absent-orleans",
   "metadata": {},
   "outputs": [
    {
     "data": {
      "text/html": [
       "<div>\n",
       "<style scoped>\n",
       "    .dataframe tbody tr th:only-of-type {\n",
       "        vertical-align: middle;\n",
       "    }\n",
       "\n",
       "    .dataframe tbody tr th {\n",
       "        vertical-align: top;\n",
       "    }\n",
       "\n",
       "    .dataframe thead th {\n",
       "        text-align: right;\n",
       "    }\n",
       "</style>\n",
       "<table border=\"1\" class=\"dataframe\">\n",
       "  <thead>\n",
       "    <tr style=\"text-align: right;\">\n",
       "      <th></th>\n",
       "      <th>Number of times pregnant</th>\n",
       "      <th>Plasma glucose concentration</th>\n",
       "      <th>Diastolic blood pressure</th>\n",
       "      <th>Triceps skin fold thickness</th>\n",
       "      <th>2-Hour serum insulin</th>\n",
       "      <th>Body mass index</th>\n",
       "      <th>Age</th>\n",
       "      <th>Class</th>\n",
       "    </tr>\n",
       "  </thead>\n",
       "  <tbody>\n",
       "    <tr>\n",
       "      <th>0</th>\n",
       "      <td>6</td>\n",
       "      <td>148</td>\n",
       "      <td>72</td>\n",
       "      <td>35</td>\n",
       "      <td>0</td>\n",
       "      <td>33.6</td>\n",
       "      <td>50</td>\n",
       "      <td>positive</td>\n",
       "    </tr>\n",
       "    <tr>\n",
       "      <th>1</th>\n",
       "      <td>1</td>\n",
       "      <td>85</td>\n",
       "      <td>66</td>\n",
       "      <td>29</td>\n",
       "      <td>0</td>\n",
       "      <td>26.6</td>\n",
       "      <td>31</td>\n",
       "      <td>negative</td>\n",
       "    </tr>\n",
       "    <tr>\n",
       "      <th>2</th>\n",
       "      <td>8</td>\n",
       "      <td>183</td>\n",
       "      <td>64</td>\n",
       "      <td>0</td>\n",
       "      <td>0</td>\n",
       "      <td>23.3</td>\n",
       "      <td>32</td>\n",
       "      <td>positive</td>\n",
       "    </tr>\n",
       "    <tr>\n",
       "      <th>3</th>\n",
       "      <td>1</td>\n",
       "      <td>89</td>\n",
       "      <td>66</td>\n",
       "      <td>23</td>\n",
       "      <td>94</td>\n",
       "      <td>28.1</td>\n",
       "      <td>21</td>\n",
       "      <td>negative</td>\n",
       "    </tr>\n",
       "    <tr>\n",
       "      <th>4</th>\n",
       "      <td>0</td>\n",
       "      <td>137</td>\n",
       "      <td>40</td>\n",
       "      <td>35</td>\n",
       "      <td>168</td>\n",
       "      <td>43.1</td>\n",
       "      <td>33</td>\n",
       "      <td>positive</td>\n",
       "    </tr>\n",
       "    <tr>\n",
       "      <th>...</th>\n",
       "      <td>...</td>\n",
       "      <td>...</td>\n",
       "      <td>...</td>\n",
       "      <td>...</td>\n",
       "      <td>...</td>\n",
       "      <td>...</td>\n",
       "      <td>...</td>\n",
       "      <td>...</td>\n",
       "    </tr>\n",
       "    <tr>\n",
       "      <th>763</th>\n",
       "      <td>10</td>\n",
       "      <td>101</td>\n",
       "      <td>76</td>\n",
       "      <td>48</td>\n",
       "      <td>180</td>\n",
       "      <td>32.9</td>\n",
       "      <td>63</td>\n",
       "      <td>negative</td>\n",
       "    </tr>\n",
       "    <tr>\n",
       "      <th>764</th>\n",
       "      <td>2</td>\n",
       "      <td>122</td>\n",
       "      <td>70</td>\n",
       "      <td>27</td>\n",
       "      <td>0</td>\n",
       "      <td>36.8</td>\n",
       "      <td>27</td>\n",
       "      <td>negative</td>\n",
       "    </tr>\n",
       "    <tr>\n",
       "      <th>765</th>\n",
       "      <td>5</td>\n",
       "      <td>121</td>\n",
       "      <td>72</td>\n",
       "      <td>23</td>\n",
       "      <td>112</td>\n",
       "      <td>26.2</td>\n",
       "      <td>30</td>\n",
       "      <td>negative</td>\n",
       "    </tr>\n",
       "    <tr>\n",
       "      <th>766</th>\n",
       "      <td>1</td>\n",
       "      <td>126</td>\n",
       "      <td>60</td>\n",
       "      <td>0</td>\n",
       "      <td>0</td>\n",
       "      <td>30.1</td>\n",
       "      <td>47</td>\n",
       "      <td>positive</td>\n",
       "    </tr>\n",
       "    <tr>\n",
       "      <th>767</th>\n",
       "      <td>1</td>\n",
       "      <td>93</td>\n",
       "      <td>70</td>\n",
       "      <td>31</td>\n",
       "      <td>0</td>\n",
       "      <td>30.4</td>\n",
       "      <td>23</td>\n",
       "      <td>negative</td>\n",
       "    </tr>\n",
       "  </tbody>\n",
       "</table>\n",
       "<p>768 rows × 8 columns</p>\n",
       "</div>"
      ],
      "text/plain": [
       "     Number of times pregnant  Plasma glucose concentration  \\\n",
       "0                           6                           148   \n",
       "1                           1                            85   \n",
       "2                           8                           183   \n",
       "3                           1                            89   \n",
       "4                           0                           137   \n",
       "..                        ...                           ...   \n",
       "763                        10                           101   \n",
       "764                         2                           122   \n",
       "765                         5                           121   \n",
       "766                         1                           126   \n",
       "767                         1                            93   \n",
       "\n",
       "     Diastolic blood pressure  Triceps skin fold thickness  \\\n",
       "0                          72                           35   \n",
       "1                          66                           29   \n",
       "2                          64                            0   \n",
       "3                          66                           23   \n",
       "4                          40                           35   \n",
       "..                        ...                          ...   \n",
       "763                        76                           48   \n",
       "764                        70                           27   \n",
       "765                        72                           23   \n",
       "766                        60                            0   \n",
       "767                        70                           31   \n",
       "\n",
       "     2-Hour serum insulin  Body mass index  Age     Class  \n",
       "0                       0             33.6   50  positive  \n",
       "1                       0             26.6   31  negative  \n",
       "2                       0             23.3   32  positive  \n",
       "3                      94             28.1   21  negative  \n",
       "4                     168             43.1   33  positive  \n",
       "..                    ...              ...  ...       ...  \n",
       "763                   180             32.9   63  negative  \n",
       "764                     0             36.8   27  negative  \n",
       "765                   112             26.2   30  negative  \n",
       "766                     0             30.1   47  positive  \n",
       "767                     0             30.4   23  negative  \n",
       "\n",
       "[768 rows x 8 columns]"
      ]
     },
     "execution_count": 3,
     "metadata": {},
     "output_type": "execute_result"
    }
   ],
   "source": [
    "data"
   ]
  },
  {
   "cell_type": "code",
   "execution_count": 4,
   "id": "scheduled-favorite",
   "metadata": {},
   "outputs": [],
   "source": [
    "# X and y \n",
    "X = data.iloc[:,:-1]\n",
    "y_str = list(data.iloc[:,-1])"
   ]
  },
  {
   "cell_type": "code",
   "execution_count": 44,
   "id": "deadly-dictionary",
   "metadata": {},
   "outputs": [],
   "source": [
    "X = np.array(X, dtype='float32')"
   ]
  },
  {
   "cell_type": "code",
   "execution_count": 45,
   "id": "color-socket",
   "metadata": {},
   "outputs": [],
   "source": [
    "y = []\n",
    "for i in y_str:\n",
    "    if i == 'positive':\n",
    "        y.append(1)\n",
    "    elif i == 'negative':\n",
    "        y.append(0)"
   ]
  },
  {
   "cell_type": "code",
   "execution_count": 46,
   "id": "serial-malpractice",
   "metadata": {},
   "outputs": [],
   "source": [
    "# Convert list to array\n",
    "y = np.array(y, dtype='float32')"
   ]
  },
  {
   "cell_type": "code",
   "execution_count": 47,
   "id": "tropical-attraction",
   "metadata": {},
   "outputs": [],
   "source": [
    "# Data Normalization: All the feature should have the range between velues (-1, 1). Standardization technique\n",
    "sc = StandardScaler()\n",
    "X = sc.fit_transform(X)"
   ]
  },
  {
   "cell_type": "code",
   "execution_count": 48,
   "id": "imported-christopher",
   "metadata": {},
   "outputs": [
    {
     "data": {
      "text/plain": [
       "array([[ 0.63994724,  0.8483238 ,  0.14964075, ..., -0.6928906 ,\n",
       "         0.20401277,  1.4259953 ],\n",
       "       [-0.84488505, -1.1233964 , -0.16054575, ..., -0.6928906 ,\n",
       "        -0.68442196, -0.1906719 ],\n",
       "       [ 1.2338802 ,  1.9437239 , -0.26394126, ..., -0.6928906 ,\n",
       "        -1.1032555 , -0.10558415],\n",
       "       ...,\n",
       "       [ 0.3429808 ,  0.00330087,  0.14964075, ...,  0.27959377,\n",
       "        -0.7351896 , -0.27575967],\n",
       "       [-0.84488505,  0.1597866 , -0.47073224, ..., -0.6928906 ,\n",
       "        -0.24020459,  1.1707321 ],\n",
       "       [-0.84488505, -0.8730192 ,  0.04624526, ..., -0.6928906 ,\n",
       "        -0.20212881, -0.87137395]], dtype=float32)"
      ]
     },
     "execution_count": 48,
     "metadata": {},
     "output_type": "execute_result"
    }
   ],
   "source": [
    "X"
   ]
  },
  {
   "cell_type": "code",
   "execution_count": 49,
   "id": "exposed-resort",
   "metadata": {},
   "outputs": [],
   "source": [
    "# Convert to pytorch tensors\n",
    "X = torch.tensor(X)\n",
    "y = torch.tensor(y)"
   ]
  },
  {
   "cell_type": "code",
   "execution_count": 50,
   "id": "israeli-interview",
   "metadata": {},
   "outputs": [
    {
     "data": {
      "text/plain": [
       "(torch.Size([768, 7]), torch.Size([768]))"
      ]
     },
     "execution_count": 50,
     "metadata": {},
     "output_type": "execute_result"
    }
   ],
   "source": [
    "X.shape, y.shape"
   ]
  },
  {
   "cell_type": "code",
   "execution_count": 51,
   "id": "pleasant-watershed",
   "metadata": {},
   "outputs": [
    {
     "data": {
      "text/plain": [
       "torch.Size([768, 1])"
      ]
     },
     "execution_count": 51,
     "metadata": {},
     "output_type": "execute_result"
    }
   ],
   "source": [
    "y.view(-1,1).shape"
   ]
  },
  {
   "cell_type": "code",
   "execution_count": 52,
   "id": "continental-specification",
   "metadata": {},
   "outputs": [],
   "source": [
    "y = y.unsqueeze(1)"
   ]
  },
  {
   "cell_type": "code",
   "execution_count": 53,
   "id": "convenient-nerve",
   "metadata": {},
   "outputs": [
    {
     "data": {
      "text/plain": [
       "(torch.Size([768, 1]), torch.Size([768, 7]))"
      ]
     },
     "execution_count": 53,
     "metadata": {},
     "output_type": "execute_result"
    }
   ],
   "source": [
    "y.shape, X.shape"
   ]
  },
  {
   "cell_type": "code",
   "execution_count": 54,
   "id": "subsequent-diabetes",
   "metadata": {},
   "outputs": [],
   "source": [
    "# Build custom Dataset\n",
    "class Dataset(Dataset):\n",
    "    \n",
    "    def __init__(self,x,y):\n",
    "        self.x = x\n",
    "        self.y = y\n",
    "        \n",
    "    def __getitem__(self, index):\n",
    "        return self.x[index], self.y[index]\n",
    "        \n",
    "    def __len__(self):\n",
    "        return len(self.x)"
   ]
  },
  {
   "cell_type": "code",
   "execution_count": 55,
   "id": "sexual-physics",
   "metadata": {},
   "outputs": [],
   "source": [
    "dataset = Dataset(X,y)"
   ]
  },
  {
   "cell_type": "code",
   "execution_count": 56,
   "id": "disciplinary-controversy",
   "metadata": {},
   "outputs": [
    {
     "data": {
      "text/plain": [
       "768"
      ]
     },
     "execution_count": 56,
     "metadata": {},
     "output_type": "execute_result"
    }
   ],
   "source": [
    "len(dataset)"
   ]
  },
  {
   "cell_type": "code",
   "execution_count": 57,
   "id": "compatible-pontiac",
   "metadata": {},
   "outputs": [],
   "source": [
    "# Load data from dataloader\n",
    "from torch.utils.data import DataLoader\n",
    "\n",
    "train_loader = DataLoader(dataset = dataset, \n",
    "           batch_size = 32, shuffle = True)"
   ]
  },
  {
   "cell_type": "code",
   "execution_count": 58,
   "id": "specified-cemetery",
   "metadata": {},
   "outputs": [
    {
     "data": {
      "text/plain": [
       "<torch.utils.data.dataloader.DataLoader at 0x7fdb1ffb3b20>"
      ]
     },
     "execution_count": 58,
     "metadata": {},
     "output_type": "execute_result"
    }
   ],
   "source": [
    "train_loader"
   ]
  },
  {
   "cell_type": "code",
   "execution_count": 63,
   "id": "blessed-consciousness",
   "metadata": {},
   "outputs": [
    {
     "name": "stdout",
     "output_type": "stream",
     "text": [
      "There are 24 batches in the dataset\n",
      "For one iteration(batch), there is:\n",
      "Data:  torch.Size([32, 7])\n",
      "Labels:  torch.Size([32, 1])\n",
      "Data:  torch.float32\n",
      "Labels:  torch.float32\n"
     ]
    }
   ],
   "source": [
    "print(f\"There are {len(train_loader)} batches in the dataset\")\n",
    "for x,y in train_loader:\n",
    "    print(\"For one iteration(batch), there is:\")\n",
    "    print(f\"Data:  {x.shape}\")\n",
    "    print(f\"Labels:  {y.shape}\")\n",
    "    print(f\"Data:  {x.dtype}\")\n",
    "    print(f\"Labels:  {y.dtype}\")\n",
    "    break"
   ]
  },
  {
   "cell_type": "code",
   "execution_count": 67,
   "id": "fatal-genealogy",
   "metadata": {},
   "outputs": [],
   "source": [
    "# Build the model\n",
    "class Model(nn.Module):\n",
    "    \n",
    "    def __init__(self, input_features, output_features):\n",
    "        super(Model, self).__init__()\n",
    "        self.fc1 = nn.Linear(input_features, 5)\n",
    "        self.fc2 = nn.Linear(5, 4)\n",
    "        self.fc3 = nn.Linear(4, 3)\n",
    "        self.fc4 = nn.Linear(3, output_features)\n",
    "        self.sigmoid = nn.Sigmoid()\n",
    "        self.tanh = nn.Tanh()\n",
    "        \n",
    "    def forward(self, x):\n",
    "        out = self.fc1(x)\n",
    "        out = self.tanh(out)\n",
    "        out = self.fc2(out)\n",
    "        out = self.tanh(out)\n",
    "        out = self.fc3(out)\n",
    "        out = self.tanh(out)\n",
    "        out = self.fc4(out)\n",
    "        out = self.sigmoid(out)\n",
    "        return out"
   ]
  },
  {
   "cell_type": "code",
   "execution_count": 68,
   "id": "sustained-guidance",
   "metadata": {},
   "outputs": [],
   "source": [
    "# Objectof the model\n",
    "net = Model(7, 1)\n",
    "criterion = nn.BCELoss(reduction = 'mean')\n",
    "optimizer = torch.optim.SGD(net.parameters(), lr=0.1, momentum=0.9)"
   ]
  },
  {
   "cell_type": "code",
   "execution_count": 70,
   "id": "small-message",
   "metadata": {},
   "outputs": [
    {
     "name": "stdout",
     "output_type": "stream",
     "text": [
      " Epoch: 1/200, Loss: 0.488, Accuracy: 0.750\n",
      " Epoch: 2/200, Loss: 0.554, Accuracy: 0.656\n",
      " Epoch: 3/200, Loss: 0.433, Accuracy: 0.781\n",
      " Epoch: 4/200, Loss: 0.380, Accuracy: 0.781\n",
      " Epoch: 5/200, Loss: 0.557, Accuracy: 0.656\n",
      " Epoch: 6/200, Loss: 0.526, Accuracy: 0.750\n",
      " Epoch: 7/200, Loss: 0.579, Accuracy: 0.719\n",
      " Epoch: 8/200, Loss: 0.403, Accuracy: 0.781\n",
      " Epoch: 9/200, Loss: 0.414, Accuracy: 0.719\n",
      " Epoch: 10/200, Loss: 0.385, Accuracy: 0.812\n",
      " Epoch: 11/200, Loss: 0.417, Accuracy: 0.812\n",
      " Epoch: 12/200, Loss: 0.414, Accuracy: 0.750\n",
      " Epoch: 13/200, Loss: 0.659, Accuracy: 0.625\n",
      " Epoch: 14/200, Loss: 0.483, Accuracy: 0.719\n",
      " Epoch: 15/200, Loss: 0.535, Accuracy: 0.750\n",
      " Epoch: 16/200, Loss: 0.481, Accuracy: 0.781\n",
      " Epoch: 17/200, Loss: 0.491, Accuracy: 0.719\n",
      " Epoch: 18/200, Loss: 0.533, Accuracy: 0.844\n",
      " Epoch: 19/200, Loss: 0.363, Accuracy: 0.781\n",
      " Epoch: 20/200, Loss: 0.363, Accuracy: 0.781\n",
      " Epoch: 21/200, Loss: 0.381, Accuracy: 0.812\n",
      " Epoch: 22/200, Loss: 0.596, Accuracy: 0.562\n",
      " Epoch: 23/200, Loss: 0.309, Accuracy: 0.844\n",
      " Epoch: 24/200, Loss: 0.375, Accuracy: 0.812\n",
      " Epoch: 25/200, Loss: 0.416, Accuracy: 0.781\n",
      " Epoch: 26/200, Loss: 0.327, Accuracy: 0.812\n",
      " Epoch: 27/200, Loss: 0.492, Accuracy: 0.844\n",
      " Epoch: 28/200, Loss: 0.686, Accuracy: 0.656\n",
      " Epoch: 29/200, Loss: 0.375, Accuracy: 0.906\n",
      " Epoch: 30/200, Loss: 0.604, Accuracy: 0.719\n",
      " Epoch: 31/200, Loss: 0.542, Accuracy: 0.656\n",
      " Epoch: 32/200, Loss: 0.351, Accuracy: 0.844\n",
      " Epoch: 33/200, Loss: 0.476, Accuracy: 0.719\n",
      " Epoch: 34/200, Loss: 0.524, Accuracy: 0.719\n",
      " Epoch: 35/200, Loss: 0.481, Accuracy: 0.719\n",
      " Epoch: 36/200, Loss: 0.410, Accuracy: 0.812\n",
      " Epoch: 37/200, Loss: 0.471, Accuracy: 0.781\n",
      " Epoch: 38/200, Loss: 0.388, Accuracy: 0.844\n",
      " Epoch: 39/200, Loss: 0.649, Accuracy: 0.688\n",
      " Epoch: 40/200, Loss: 0.341, Accuracy: 0.906\n",
      " Epoch: 41/200, Loss: 0.465, Accuracy: 0.750\n",
      " Epoch: 42/200, Loss: 0.366, Accuracy: 0.781\n",
      " Epoch: 43/200, Loss: 0.382, Accuracy: 0.844\n",
      " Epoch: 44/200, Loss: 0.374, Accuracy: 0.875\n",
      " Epoch: 45/200, Loss: 0.455, Accuracy: 0.719\n",
      " Epoch: 46/200, Loss: 0.480, Accuracy: 0.750\n",
      " Epoch: 47/200, Loss: 0.452, Accuracy: 0.844\n",
      " Epoch: 48/200, Loss: 0.537, Accuracy: 0.750\n",
      " Epoch: 49/200, Loss: 0.379, Accuracy: 0.750\n",
      " Epoch: 50/200, Loss: 0.491, Accuracy: 0.750\n",
      " Epoch: 51/200, Loss: 0.458, Accuracy: 0.750\n",
      " Epoch: 52/200, Loss: 0.456, Accuracy: 0.812\n",
      " Epoch: 53/200, Loss: 0.387, Accuracy: 0.844\n",
      " Epoch: 54/200, Loss: 0.397, Accuracy: 0.781\n",
      " Epoch: 55/200, Loss: 0.342, Accuracy: 0.812\n",
      " Epoch: 56/200, Loss: 0.393, Accuracy: 0.750\n",
      " Epoch: 57/200, Loss: 0.431, Accuracy: 0.781\n",
      " Epoch: 58/200, Loss: 0.362, Accuracy: 0.844\n",
      " Epoch: 59/200, Loss: 0.559, Accuracy: 0.688\n",
      " Epoch: 60/200, Loss: 0.426, Accuracy: 0.781\n",
      " Epoch: 61/200, Loss: 0.450, Accuracy: 0.750\n",
      " Epoch: 62/200, Loss: 0.319, Accuracy: 0.844\n",
      " Epoch: 63/200, Loss: 0.564, Accuracy: 0.750\n",
      " Epoch: 64/200, Loss: 0.431, Accuracy: 0.781\n",
      " Epoch: 65/200, Loss: 0.377, Accuracy: 0.812\n",
      " Epoch: 66/200, Loss: 0.502, Accuracy: 0.719\n",
      " Epoch: 67/200, Loss: 0.310, Accuracy: 0.812\n",
      " Epoch: 68/200, Loss: 0.252, Accuracy: 0.906\n",
      " Epoch: 69/200, Loss: 0.544, Accuracy: 0.719\n",
      " Epoch: 70/200, Loss: 0.423, Accuracy: 0.812\n",
      " Epoch: 71/200, Loss: 0.377, Accuracy: 0.781\n",
      " Epoch: 72/200, Loss: 0.516, Accuracy: 0.781\n",
      " Epoch: 73/200, Loss: 0.425, Accuracy: 0.906\n",
      " Epoch: 74/200, Loss: 0.372, Accuracy: 0.812\n",
      " Epoch: 75/200, Loss: 0.569, Accuracy: 0.719\n",
      " Epoch: 76/200, Loss: 0.626, Accuracy: 0.688\n",
      " Epoch: 77/200, Loss: 0.287, Accuracy: 0.844\n",
      " Epoch: 78/200, Loss: 0.293, Accuracy: 0.812\n",
      " Epoch: 79/200, Loss: 0.482, Accuracy: 0.812\n",
      " Epoch: 80/200, Loss: 0.486, Accuracy: 0.781\n",
      " Epoch: 81/200, Loss: 0.365, Accuracy: 0.844\n",
      " Epoch: 82/200, Loss: 0.563, Accuracy: 0.688\n",
      " Epoch: 83/200, Loss: 0.359, Accuracy: 0.844\n",
      " Epoch: 84/200, Loss: 0.325, Accuracy: 0.844\n",
      " Epoch: 85/200, Loss: 0.454, Accuracy: 0.812\n",
      " Epoch: 86/200, Loss: 0.310, Accuracy: 0.875\n",
      " Epoch: 87/200, Loss: 0.558, Accuracy: 0.719\n",
      " Epoch: 88/200, Loss: 0.429, Accuracy: 0.781\n",
      " Epoch: 89/200, Loss: 0.573, Accuracy: 0.750\n",
      " Epoch: 90/200, Loss: 0.343, Accuracy: 0.844\n",
      " Epoch: 91/200, Loss: 0.511, Accuracy: 0.719\n",
      " Epoch: 92/200, Loss: 0.370, Accuracy: 0.875\n",
      " Epoch: 93/200, Loss: 0.349, Accuracy: 0.781\n",
      " Epoch: 94/200, Loss: 0.313, Accuracy: 0.906\n",
      " Epoch: 95/200, Loss: 0.266, Accuracy: 0.844\n",
      " Epoch: 96/200, Loss: 0.437, Accuracy: 0.719\n",
      " Epoch: 97/200, Loss: 0.306, Accuracy: 0.844\n",
      " Epoch: 98/200, Loss: 0.491, Accuracy: 0.781\n",
      " Epoch: 99/200, Loss: 0.360, Accuracy: 0.812\n",
      " Epoch: 100/200, Loss: 0.401, Accuracy: 0.875\n",
      " Epoch: 101/200, Loss: 0.331, Accuracy: 0.844\n",
      " Epoch: 102/200, Loss: 0.442, Accuracy: 0.812\n",
      " Epoch: 103/200, Loss: 0.287, Accuracy: 0.906\n",
      " Epoch: 104/200, Loss: 0.342, Accuracy: 0.844\n",
      " Epoch: 105/200, Loss: 0.569, Accuracy: 0.719\n",
      " Epoch: 106/200, Loss: 0.459, Accuracy: 0.750\n",
      " Epoch: 107/200, Loss: 0.369, Accuracy: 0.812\n",
      " Epoch: 108/200, Loss: 0.457, Accuracy: 0.719\n",
      " Epoch: 109/200, Loss: 0.516, Accuracy: 0.781\n",
      " Epoch: 110/200, Loss: 0.375, Accuracy: 0.781\n",
      " Epoch: 111/200, Loss: 0.423, Accuracy: 0.750\n",
      " Epoch: 112/200, Loss: 0.449, Accuracy: 0.781\n",
      " Epoch: 113/200, Loss: 0.564, Accuracy: 0.750\n",
      " Epoch: 114/200, Loss: 0.434, Accuracy: 0.781\n",
      " Epoch: 115/200, Loss: 0.612, Accuracy: 0.750\n",
      " Epoch: 116/200, Loss: 0.409, Accuracy: 0.781\n",
      " Epoch: 117/200, Loss: 0.332, Accuracy: 0.812\n",
      " Epoch: 118/200, Loss: 0.346, Accuracy: 0.906\n",
      " Epoch: 119/200, Loss: 0.648, Accuracy: 0.719\n",
      " Epoch: 120/200, Loss: 0.407, Accuracy: 0.812\n",
      " Epoch: 121/200, Loss: 0.482, Accuracy: 0.750\n",
      " Epoch: 122/200, Loss: 0.224, Accuracy: 0.938\n",
      " Epoch: 123/200, Loss: 0.475, Accuracy: 0.750\n",
      " Epoch: 124/200, Loss: 0.411, Accuracy: 0.781\n",
      " Epoch: 125/200, Loss: 0.413, Accuracy: 0.781\n",
      " Epoch: 126/200, Loss: 0.373, Accuracy: 0.906\n",
      " Epoch: 127/200, Loss: 0.458, Accuracy: 0.781\n",
      " Epoch: 128/200, Loss: 0.411, Accuracy: 0.781\n",
      " Epoch: 129/200, Loss: 0.335, Accuracy: 0.938\n",
      " Epoch: 130/200, Loss: 0.457, Accuracy: 0.719\n",
      " Epoch: 131/200, Loss: 0.318, Accuracy: 0.875\n",
      " Epoch: 132/200, Loss: 0.440, Accuracy: 0.750\n",
      " Epoch: 133/200, Loss: 0.467, Accuracy: 0.781\n",
      " Epoch: 134/200, Loss: 0.656, Accuracy: 0.688\n",
      " Epoch: 135/200, Loss: 0.236, Accuracy: 0.906\n",
      " Epoch: 136/200, Loss: 0.413, Accuracy: 0.719\n",
      " Epoch: 137/200, Loss: 0.435, Accuracy: 0.812\n",
      " Epoch: 138/200, Loss: 0.360, Accuracy: 0.844\n",
      " Epoch: 139/200, Loss: 0.497, Accuracy: 0.812\n",
      " Epoch: 140/200, Loss: 0.468, Accuracy: 0.688\n",
      " Epoch: 141/200, Loss: 0.435, Accuracy: 0.875\n",
      " Epoch: 142/200, Loss: 0.430, Accuracy: 0.812\n",
      " Epoch: 143/200, Loss: 0.472, Accuracy: 0.750\n",
      " Epoch: 144/200, Loss: 0.501, Accuracy: 0.750\n",
      " Epoch: 145/200, Loss: 0.472, Accuracy: 0.750\n",
      " Epoch: 146/200, Loss: 0.516, Accuracy: 0.750\n",
      " Epoch: 147/200, Loss: 0.486, Accuracy: 0.750\n",
      " Epoch: 148/200, Loss: 0.422, Accuracy: 0.750\n",
      " Epoch: 149/200, Loss: 0.281, Accuracy: 0.906\n",
      " Epoch: 150/200, Loss: 0.324, Accuracy: 0.781\n",
      " Epoch: 151/200, Loss: 0.326, Accuracy: 0.875\n",
      " Epoch: 152/200, Loss: 0.663, Accuracy: 0.594\n",
      " Epoch: 153/200, Loss: 0.373, Accuracy: 0.781\n",
      " Epoch: 154/200, Loss: 0.509, Accuracy: 0.781\n",
      " Epoch: 155/200, Loss: 0.365, Accuracy: 0.812\n",
      " Epoch: 156/200, Loss: 0.481, Accuracy: 0.750\n",
      " Epoch: 157/200, Loss: 0.559, Accuracy: 0.656\n",
      " Epoch: 158/200, Loss: 0.328, Accuracy: 0.812\n",
      " Epoch: 159/200, Loss: 0.368, Accuracy: 0.906\n",
      " Epoch: 160/200, Loss: 0.420, Accuracy: 0.781\n",
      " Epoch: 161/200, Loss: 0.333, Accuracy: 0.844\n",
      " Epoch: 162/200, Loss: 0.466, Accuracy: 0.812\n",
      " Epoch: 163/200, Loss: 0.369, Accuracy: 0.844\n",
      " Epoch: 164/200, Loss: 0.315, Accuracy: 0.844\n",
      " Epoch: 165/200, Loss: 0.443, Accuracy: 0.750\n",
      " Epoch: 166/200, Loss: 0.501, Accuracy: 0.719\n",
      " Epoch: 167/200, Loss: 0.367, Accuracy: 0.844\n",
      " Epoch: 168/200, Loss: 0.250, Accuracy: 0.938\n",
      " Epoch: 169/200, Loss: 0.310, Accuracy: 0.844\n",
      " Epoch: 170/200, Loss: 0.333, Accuracy: 0.844\n",
      " Epoch: 171/200, Loss: 0.482, Accuracy: 0.781\n",
      " Epoch: 172/200, Loss: 0.335, Accuracy: 0.906\n",
      " Epoch: 173/200, Loss: 0.449, Accuracy: 0.750\n",
      " Epoch: 174/200, Loss: 0.364, Accuracy: 0.812\n",
      " Epoch: 175/200, Loss: 0.324, Accuracy: 0.906\n",
      " Epoch: 176/200, Loss: 0.460, Accuracy: 0.750\n",
      " Epoch: 177/200, Loss: 0.387, Accuracy: 0.781\n",
      " Epoch: 178/200, Loss: 0.424, Accuracy: 0.781\n",
      " Epoch: 179/200, Loss: 0.346, Accuracy: 0.812\n",
      " Epoch: 180/200, Loss: 0.379, Accuracy: 0.812\n",
      " Epoch: 181/200, Loss: 0.320, Accuracy: 0.812\n",
      " Epoch: 182/200, Loss: 0.294, Accuracy: 0.906\n",
      " Epoch: 183/200, Loss: 0.320, Accuracy: 0.938\n",
      " Epoch: 184/200, Loss: 0.364, Accuracy: 0.875\n",
      " Epoch: 185/200, Loss: 0.421, Accuracy: 0.719\n"
     ]
    },
    {
     "name": "stdout",
     "output_type": "stream",
     "text": [
      " Epoch: 186/200, Loss: 0.346, Accuracy: 0.812\n",
      " Epoch: 187/200, Loss: 0.386, Accuracy: 0.844\n",
      " Epoch: 188/200, Loss: 0.353, Accuracy: 0.812\n",
      " Epoch: 189/200, Loss: 0.443, Accuracy: 0.781\n",
      " Epoch: 190/200, Loss: 0.436, Accuracy: 0.812\n",
      " Epoch: 191/200, Loss: 0.688, Accuracy: 0.594\n",
      " Epoch: 192/200, Loss: 0.224, Accuracy: 0.906\n",
      " Epoch: 193/200, Loss: 0.387, Accuracy: 0.844\n",
      " Epoch: 194/200, Loss: 0.433, Accuracy: 0.750\n",
      " Epoch: 195/200, Loss: 0.501, Accuracy: 0.844\n",
      " Epoch: 196/200, Loss: 0.419, Accuracy: 0.719\n",
      " Epoch: 197/200, Loss: 0.412, Accuracy: 0.750\n",
      " Epoch: 198/200, Loss: 0.438, Accuracy: 0.812\n",
      " Epoch: 199/200, Loss: 0.214, Accuracy: 0.938\n",
      " Epoch: 200/200, Loss: 0.478, Accuracy: 0.781\n"
     ]
    }
   ],
   "source": [
    "# Train the neural network\n",
    "epochs = 200\n",
    "for epoch in range(epochs):\n",
    "    for inputs, labels in train_loader:\n",
    "        # Forward Prop\n",
    "        outputs = net(inputs)\n",
    "        # Loss Calculation\n",
    "        loss = criterion(outputs, labels)\n",
    "        \n",
    "        # Backpropagation\n",
    "        # 1. Clear the Gradient Buffer\n",
    "        optimizer.zero_grad()\n",
    "        # 2. Calculate the gradients \n",
    "        loss.backward()\n",
    "        # 3. Update the weights\n",
    "        optimizer.step()\n",
    "        \n",
    "    # Accuracy Calculation\n",
    "    output = (outputs>0.5).float()\n",
    "    accuracy = (output == labels).float().mean()\n",
    "    # Print Statistics \n",
    "    print(\" Epoch: {}/{}, Loss: {:.3f}, Accuracy: {:.3f}\".format(epoch+1,epochs,loss,accuracy))"
   ]
  },
  {
   "cell_type": "code",
   "execution_count": null,
   "id": "valid-house",
   "metadata": {},
   "outputs": [],
   "source": []
  },
  {
   "cell_type": "code",
   "execution_count": null,
   "id": "classified-bundle",
   "metadata": {},
   "outputs": [],
   "source": []
  },
  {
   "cell_type": "code",
   "execution_count": null,
   "id": "another-monroe",
   "metadata": {},
   "outputs": [],
   "source": []
  },
  {
   "cell_type": "code",
   "execution_count": null,
   "id": "legitimate-direction",
   "metadata": {},
   "outputs": [],
   "source": []
  },
  {
   "cell_type": "code",
   "execution_count": null,
   "id": "japanese-intellectual",
   "metadata": {},
   "outputs": [],
   "source": []
  },
  {
   "cell_type": "code",
   "execution_count": null,
   "id": "dominant-progressive",
   "metadata": {},
   "outputs": [],
   "source": []
  },
  {
   "cell_type": "code",
   "execution_count": null,
   "id": "powered-montgomery",
   "metadata": {},
   "outputs": [],
   "source": []
  },
  {
   "cell_type": "code",
   "execution_count": null,
   "id": "cleared-output",
   "metadata": {},
   "outputs": [],
   "source": []
  },
  {
   "cell_type": "code",
   "execution_count": null,
   "id": "innocent-temperature",
   "metadata": {},
   "outputs": [],
   "source": []
  },
  {
   "cell_type": "code",
   "execution_count": null,
   "id": "stopped-rugby",
   "metadata": {},
   "outputs": [],
   "source": []
  },
  {
   "cell_type": "code",
   "execution_count": null,
   "id": "superb-shore",
   "metadata": {},
   "outputs": [],
   "source": []
  },
  {
   "cell_type": "code",
   "execution_count": null,
   "id": "supposed-miniature",
   "metadata": {},
   "outputs": [],
   "source": []
  },
  {
   "cell_type": "code",
   "execution_count": null,
   "id": "stunning-disability",
   "metadata": {},
   "outputs": [],
   "source": []
  },
  {
   "cell_type": "code",
   "execution_count": null,
   "id": "discrete-foster",
   "metadata": {},
   "outputs": [],
   "source": []
  },
  {
   "cell_type": "code",
   "execution_count": null,
   "id": "assigned-walnut",
   "metadata": {},
   "outputs": [],
   "source": []
  }
 ],
 "metadata": {
  "kernelspec": {
   "display_name": "Python 3",
   "language": "python",
   "name": "python3"
  },
  "language_info": {
   "codemirror_mode": {
    "name": "ipython",
    "version": 3
   },
   "file_extension": ".py",
   "mimetype": "text/x-python",
   "name": "python",
   "nbconvert_exporter": "python",
   "pygments_lexer": "ipython3",
   "version": "3.8.5"
  }
 },
 "nbformat": 4,
 "nbformat_minor": 5
}
